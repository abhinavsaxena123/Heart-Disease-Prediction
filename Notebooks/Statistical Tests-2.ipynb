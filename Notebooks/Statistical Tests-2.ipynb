{
 "cells": [
  {
   "cell_type": "markdown",
   "id": "37444af4-4651-4867-a130-cbb8f9505339",
   "metadata": {},
   "source": [
    "<div style=\"background-color:pink; padding:20px; border-radius:8px; border: 1px solid #dcdcdc; max-width: 900px; margin: auto; text-align: center;\"> \n",
    "    <h2 style=\"font-family: Arial, sans-serif; color: #2c3e50; font-size: 28px; margin-bottom: 10px;\"> Statistical Tests </h2> \n",
    "    <p style=\"font-family: Arial, sans-serif; color: #555; font-size: 16px; line-height: 1.5;\"> To better understand the relationships between features and heart disease, I conducted several statistical tests: </p>\n",
    "    <ul style=\"text-align: left; font-family: Arial, sans-serif; color: #555; font-size: 16px; line-height: 1.5; padding-left: 20px;\"> \n",
    "        <li><strong>Chi-Square Test for Categorical Variables:</strong> This test was used to determine if there is a significant association between categorical variables and heart disease. It helped identify features that have a statistical dependency with heart disease.</li> <li>\n",
    "            <strong>Independent t-test:</strong> For numerical variables, I used the independent t-test to compare the mean differences between heart disease groups (presence vs. absence). This test helped reveal whether specific numeric features show significant differences between the two groups.</li> \n",
    "        <li><strong>ANOVA Test:</strong> ANOVA was applied for multiple-group comparisons to explore whether there are statistically significant differences in feature means across heart disease categories.\n",
    "        </li> <li><strong>Correlation with Target Variable:</strong> The Point-Biserial Correlation Coefficient was calculated to assess the strength and direction of association between continuous variables and the binary heart disease target variable.</li> \n",
    "    </ul> \n",
    "</div>"
   ]
  },
  {
   "cell_type": "code",
   "execution_count": 74,
   "id": "370908f9-4a8a-4195-815e-6bc727a48421",
   "metadata": {},
   "outputs": [],
   "source": [
    "#Importing Libraries\n",
    "import pandas as pd\n",
    "import numpy as np\n",
    "import matplotlib.pyplot as plt\n",
    "import seaborn as sns\n",
    "\n",
    "from scipy.stats import chi2_contingency\n",
    "import scipy.stats as stats\n",
    "from scipy.stats import pointbiserialr\n",
    "\n",
    "from sklearn.model_selection import train_test_split\n",
    "\n",
    "import warnings\n",
    "warnings.filterwarnings('ignore')"
   ]
  },
  {
   "cell_type": "code",
   "execution_count": 22,
   "id": "b4990509-88b3-45c1-9e38-eb26932f09da",
   "metadata": {},
   "outputs": [
    {
     "data": {
      "text/html": [
       "<div>\n",
       "<style scoped>\n",
       "    .dataframe tbody tr th:only-of-type {\n",
       "        vertical-align: middle;\n",
       "    }\n",
       "\n",
       "    .dataframe tbody tr th {\n",
       "        vertical-align: top;\n",
       "    }\n",
       "\n",
       "    .dataframe thead th {\n",
       "        text-align: right;\n",
       "    }\n",
       "</style>\n",
       "<table border=\"1\" class=\"dataframe\">\n",
       "  <thead>\n",
       "    <tr style=\"text-align: right;\">\n",
       "      <th></th>\n",
       "      <th>Age</th>\n",
       "      <th>Sex</th>\n",
       "      <th>Chest pain type</th>\n",
       "      <th>BP</th>\n",
       "      <th>Cholesterol</th>\n",
       "      <th>FBS over 120</th>\n",
       "      <th>EKG results</th>\n",
       "      <th>Max HR</th>\n",
       "      <th>Exercise angina</th>\n",
       "      <th>ST depression</th>\n",
       "      <th>Slope of ST</th>\n",
       "      <th>Number of vessels fluro</th>\n",
       "      <th>Thallium</th>\n",
       "      <th>Heart Disease</th>\n",
       "    </tr>\n",
       "  </thead>\n",
       "  <tbody>\n",
       "    <tr>\n",
       "      <th>0</th>\n",
       "      <td>70</td>\n",
       "      <td>1</td>\n",
       "      <td>4</td>\n",
       "      <td>130</td>\n",
       "      <td>322</td>\n",
       "      <td>0</td>\n",
       "      <td>2</td>\n",
       "      <td>109</td>\n",
       "      <td>0</td>\n",
       "      <td>2.4</td>\n",
       "      <td>2</td>\n",
       "      <td>3</td>\n",
       "      <td>3</td>\n",
       "      <td>Presence</td>\n",
       "    </tr>\n",
       "    <tr>\n",
       "      <th>1</th>\n",
       "      <td>80</td>\n",
       "      <td>0</td>\n",
       "      <td>3</td>\n",
       "      <td>115</td>\n",
       "      <td>564</td>\n",
       "      <td>0</td>\n",
       "      <td>2</td>\n",
       "      <td>160</td>\n",
       "      <td>0</td>\n",
       "      <td>1.6</td>\n",
       "      <td>2</td>\n",
       "      <td>0</td>\n",
       "      <td>7</td>\n",
       "      <td>Absence</td>\n",
       "    </tr>\n",
       "    <tr>\n",
       "      <th>2</th>\n",
       "      <td>55</td>\n",
       "      <td>1</td>\n",
       "      <td>2</td>\n",
       "      <td>124</td>\n",
       "      <td>261</td>\n",
       "      <td>0</td>\n",
       "      <td>0</td>\n",
       "      <td>141</td>\n",
       "      <td>0</td>\n",
       "      <td>0.3</td>\n",
       "      <td>1</td>\n",
       "      <td>0</td>\n",
       "      <td>7</td>\n",
       "      <td>Presence</td>\n",
       "    </tr>\n",
       "    <tr>\n",
       "      <th>3</th>\n",
       "      <td>65</td>\n",
       "      <td>1</td>\n",
       "      <td>4</td>\n",
       "      <td>128</td>\n",
       "      <td>263</td>\n",
       "      <td>0</td>\n",
       "      <td>0</td>\n",
       "      <td>105</td>\n",
       "      <td>1</td>\n",
       "      <td>0.2</td>\n",
       "      <td>2</td>\n",
       "      <td>1</td>\n",
       "      <td>7</td>\n",
       "      <td>Absence</td>\n",
       "    </tr>\n",
       "    <tr>\n",
       "      <th>4</th>\n",
       "      <td>45</td>\n",
       "      <td>0</td>\n",
       "      <td>2</td>\n",
       "      <td>120</td>\n",
       "      <td>269</td>\n",
       "      <td>0</td>\n",
       "      <td>2</td>\n",
       "      <td>121</td>\n",
       "      <td>1</td>\n",
       "      <td>0.2</td>\n",
       "      <td>1</td>\n",
       "      <td>1</td>\n",
       "      <td>3</td>\n",
       "      <td>Absence</td>\n",
       "    </tr>\n",
       "  </tbody>\n",
       "</table>\n",
       "</div>"
      ],
      "text/plain": [
       "   Age  Sex  Chest pain type   BP  Cholesterol  FBS over 120  EKG results  \\\n",
       "0   70    1                4  130          322             0            2   \n",
       "1   80    0                3  115          564             0            2   \n",
       "2   55    1                2  124          261             0            0   \n",
       "3   65    1                4  128          263             0            0   \n",
       "4   45    0                2  120          269             0            2   \n",
       "\n",
       "   Max HR  Exercise angina  ST depression  Slope of ST  \\\n",
       "0     109                0            2.4            2   \n",
       "1     160                0            1.6            2   \n",
       "2     141                0            0.3            1   \n",
       "3     105                1            0.2            2   \n",
       "4     121                1            0.2            1   \n",
       "\n",
       "   Number of vessels fluro  Thallium Heart Disease  \n",
       "0                        3         3      Presence  \n",
       "1                        0         7       Absence  \n",
       "2                        0         7      Presence  \n",
       "3                        1         7       Absence  \n",
       "4                        1         3       Absence  "
      ]
     },
     "execution_count": 22,
     "metadata": {},
     "output_type": "execute_result"
    }
   ],
   "source": [
    "df = pd.read_csv('../Data/Heart_Disease_Prediction.csv')\n",
    "df.head()"
   ]
  },
  {
   "cell_type": "code",
   "execution_count": 23,
   "id": "ab688c98-e913-4a86-ad6c-15115f57a63c",
   "metadata": {},
   "outputs": [
    {
     "name": "stdout",
     "output_type": "stream",
     "text": [
      "Dataset shape: (270, 14)\n"
     ]
    }
   ],
   "source": [
    "print(f\"Dataset shape: {df.shape}\")"
   ]
  },
  {
   "cell_type": "code",
   "execution_count": 24,
   "id": "2d7c4f3b-17d6-405b-841d-a467e2434b41",
   "metadata": {},
   "outputs": [],
   "source": [
    "#Creating a copy of original dataframe\n",
    "df_copy = df.copy()"
   ]
  },
  {
   "cell_type": "code",
   "execution_count": 25,
   "id": "216e57e2-8afb-4fed-ab20-6f1b41d37186",
   "metadata": {},
   "outputs": [],
   "source": [
    "df['Heart Disease'] = df['Heart Disease'].replace({'Presence': 1, 'Absence':0})"
   ]
  },
  {
   "cell_type": "markdown",
   "id": "bd8f4b23-c777-4d44-92fe-c73119367e23",
   "metadata": {},
   "source": [
    "### Statistical Tests:"
   ]
  },
  {
   "cell_type": "markdown",
   "id": "91d0d8a8-0d77-4266-bc6b-caa06c422e99",
   "metadata": {},
   "source": [
    "### 1. Chi-Square Test for Categorical Variables\n",
    "* The Chi-square test is a statistical method used to test associations between categorical variables to determine if there’s a significant association between two variables or if observed frequencies differ from expected frequencies.\n",
    "* Null Hypothesis (H0): The variables are independent (no association).\n",
    "* Alternative Hypothesis (H1): The variables are dependent (there’s an association).\n",
    "\n",
    " + A small p-value (typically ≤ 0.05) suggests that there is an association between the variable and 'Heart Disease', meaning they are not independent.\n",
    "+ A large p-value (> 0.05) suggests that the variable and 'Heart Disease' are independent, indicating no significant association."
   ]
  },
  {
   "cell_type": "code",
   "execution_count": 70,
   "id": "d832bfff-d071-4ea3-baad-84c90eed2a98",
   "metadata": {},
   "outputs": [
    {
     "name": "stdout",
     "output_type": "stream",
     "text": [
      "Variable: Sex\n",
      "Chi2: 22.66725551158847, p-value: 1.926225633356082e-06, Degrees of Freedom: 1\n",
      "----------------------------------------\n",
      "Variable: Chest pain type\n",
      "Chi2: 68.58820650574037, p-value: 8.560988097108327e-15, Degrees of Freedom: 3\n",
      "----------------------------------------\n",
      "Variable: FBS over 120\n",
      "Chi2: 0.009171195652173895, p-value: 0.9237061355849946, Degrees of Freedom: 1\n",
      "----------------------------------------\n",
      "Variable: Exercise angina\n",
      "Chi2: 45.691872555714184, p-value: 1.3839580611547017e-11, Degrees of Freedom: 1\n",
      "----------------------------------------\n",
      "Variable: Thallium\n",
      "Chi2: 74.56934644303065, p-value: 6.419070718857945e-17, Degrees of Freedom: 2\n",
      "----------------------------------------\n",
      "Variable: Number of vessels fluro\n",
      "Chi2: 62.863091899026564, p-value: 1.4366195484671344e-13, Degrees of Freedom: 3\n",
      "----------------------------------------\n",
      "Variable: EKG results\n",
      "Chi2: 8.979451997548342, p-value: 0.011223718700990279, Degrees of Freedom: 2\n",
      "----------------------------------------\n"
     ]
    }
   ],
   "source": [
    "cat_components = ['Sex', 'Chest pain type', 'FBS over 120', 'Exercise angina', 'Thallium',\n",
    "                 'Number of vessels fluro', 'EKG results']\n",
    "\n",
    "results = {}\n",
    "for col in cat_components:\n",
    "    contingency_table = pd.crosstab(df[col], df['Heart Disease'])\n",
    "    chi2, p, dof, expected = chi2_contingency(contingency_table)\n",
    "    results[col] = {'Chi2': chi2, 'p-value': p, 'Degrees of Freedom': dof}\n",
    "\n",
    "for variable, result in results.items():\n",
    "    print(f\"Variable: {variable}\")\n",
    "    print(f\"Chi2: {result['Chi2']}, p-value: {result['p-value']}, Degrees of Freedom: {result['Degrees of Freedom']}\")\n",
    "    print(\"----\" * 10)"
   ]
  },
  {
   "cell_type": "markdown",
   "id": "824c7e5f-66a9-46cc-93a7-2a399d290680",
   "metadata": {},
   "source": [
    "#### Interpretation:\n",
    "1. Sex:\n",
    "   * Chi2: 22.67, p-value: 1.93 × 10^-6\n",
    "   * Since the p-value is much less than 0.05, we reject the null hypothesis and conclude that \n",
    "     there is a statistically significant association between 'Sex' and 'Heart Disease'.\n",
    "\n",
    "2. Chest pain type:\n",
    "   * Chi2: 68.59, p-value: 8.56 * 10^-15\n",
    "   * The very small p-value indicates a strong association between 'Chest pain type' and 'Heart \n",
    "     Disease'.\n",
    "\n",
    "3. FBS over 120:\n",
    "   * Chi2: 0.009, p-value: 0.924\n",
    "   * Since the p-value is greater than 0.05, we do not have enough evidence to reject the null \n",
    "     hypothesis, suggesting no significant association between 'FBS over 120' and 'Heart Disease'.\n",
    "\n",
    "4. Exercise angina:\n",
    "   * Chi2: 45.69, p-value: 1.38 x 10^-11\n",
    "   * The p-value is very small, indicating a significant association between 'Exercise angina' and \n",
    "    'Heart Disease'.\n",
    "\n",
    "5. Thallium:\n",
    "   * Chi2: 74.57, p-value: 6.42 x 10^-17\n",
    "   * With a p-value far below 0.05, there is a significant association between 'Thallium' and \n",
    "    'Heart Disease'.\n",
    "    \n",
    "6. Number of vessels fluro:\n",
    "   * Chi2: 62.86, p-value: 1.44 x 10^-13\n",
    "   * The small p-value suggests a significant association between 'Number of vessels fluro' and \n",
    "    'Heart Disease'.\n",
    "\n",
    "7. EKG results:\n",
    "   * Chi2: 8.979 , p-value: 0.0112\n",
    "   * The small p-value suggests a significant association between 'EKG Results' and 'Heart \n",
    "     Disease'.\n",
    "\n",
    "#### Summary:\n",
    "+ Variables Sex, Chest pain type, Exercise angina, Thallium, and Number of vessels fluro, EKG results show a statistically significant association with 'Heart Disease', while FBS over 120 does not.\n",
    "+ These insights could help in feature selection for further predictive modeling."
   ]
  },
  {
   "cell_type": "markdown",
   "id": "e8611964-c47d-4b48-9192-aed11b677ac0",
   "metadata": {},
   "source": [
    "### 2. Hypothesis Testing for Mean Differences"
   ]
  },
  {
   "cell_type": "markdown",
   "id": "3a52656d-3ad0-48cb-a72b-f3d70f487be5",
   "metadata": {},
   "source": [
    "### 2.1: Independent t-test\n",
    "##### Used for comparing two groups (patients with vs. without heart disease).\n",
    "* An independent t-test (also known as a two-sample t-test or unpaired t-test) is a statistical test used to determine if there is a significant difference between the means of two independent groups.\n",
    "##### Hypotheses for the Independent t-test:\n",
    " + Null Hypothesis (H0): The means of the two groups are equal (no difference).\n",
    " + Alternative Hypothesis (H1): The means of the two groups are not equal (there is a difference).\n",
    "   \n",
    "* Interpretation: If p < 0.05, you conclude that there is a significant difference between the group means."
   ]
  },
  {
   "cell_type": "code",
   "execution_count": 27,
   "id": "dab831d8-adba-40ec-a8af-4078ea4513b3",
   "metadata": {},
   "outputs": [
    {
     "data": {
      "text/html": [
       "<div>\n",
       "<style scoped>\n",
       "    .dataframe tbody tr th:only-of-type {\n",
       "        vertical-align: middle;\n",
       "    }\n",
       "\n",
       "    .dataframe tbody tr th {\n",
       "        vertical-align: top;\n",
       "    }\n",
       "\n",
       "    .dataframe thead th {\n",
       "        text-align: right;\n",
       "    }\n",
       "</style>\n",
       "<table border=\"1\" class=\"dataframe\">\n",
       "  <thead>\n",
       "    <tr style=\"text-align: right;\">\n",
       "      <th></th>\n",
       "      <th>t-statistic</th>\n",
       "      <th>p-value</th>\n",
       "    </tr>\n",
       "  </thead>\n",
       "  <tbody>\n",
       "    <tr>\n",
       "      <th>Age</th>\n",
       "      <td>3.743457</td>\n",
       "      <td>2.221218e-04</td>\n",
       "    </tr>\n",
       "    <tr>\n",
       "      <th>BP</th>\n",
       "      <td>2.574999</td>\n",
       "      <td>1.056095e-02</td>\n",
       "    </tr>\n",
       "    <tr>\n",
       "      <th>Cholesterol</th>\n",
       "      <td>1.945677</td>\n",
       "      <td>5.273889e-02</td>\n",
       "    </tr>\n",
       "    <tr>\n",
       "      <th>Max HR</th>\n",
       "      <td>-7.543813</td>\n",
       "      <td>7.119583e-13</td>\n",
       "    </tr>\n",
       "    <tr>\n",
       "      <th>ST depression</th>\n",
       "      <td>7.531875</td>\n",
       "      <td>7.677946e-13</td>\n",
       "    </tr>\n",
       "  </tbody>\n",
       "</table>\n",
       "</div>"
      ],
      "text/plain": [
       "               t-statistic       p-value\n",
       "Age               3.743457  2.221218e-04\n",
       "BP                2.574999  1.056095e-02\n",
       "Cholesterol       1.945677  5.273889e-02\n",
       "Max HR           -7.543813  7.119583e-13\n",
       "ST depression     7.531875  7.677946e-13"
      ]
     },
     "execution_count": 27,
     "metadata": {},
     "output_type": "execute_result"
    }
   ],
   "source": [
    "continuous_components = ['Age', 'BP', 'Cholesterol', 'Max HR', 'ST depression']\n",
    "\n",
    "# Dictionary to store t-test results\n",
    "t_test_results = {}\n",
    "\n",
    "for column in continuous_components:\n",
    "    # Separate data into two groups based on heart disease diagnosis\n",
    "    group_with_disease = df[df['Heart Disease'] == 1][column]\n",
    "    group_without_disease = df[df['Heart Disease'] == 0][column]\n",
    "\n",
    "    # Perform t-test\n",
    "    t_stat, p_val = stats.ttest_ind(group_with_disease, group_without_disease, equal_var=True)\n",
    "    t_test_results[column] = {'t-statistic': t_stat, 'p-value': p_val}\n",
    "\n",
    "# Converting results to DataFrame\n",
    "t_test_results_df = pd.DataFrame(t_test_results).T\n",
    "t_test_results_df"
   ]
  },
  {
   "cell_type": "markdown",
   "id": "bc77ebc5-6bd3-4912-bdfb-d026f37e9aa5",
   "metadata": {},
   "source": [
    "#### Interpretation:\n",
    "1. Significant: Age shows a statistically significant difference(0.000222) between heart disease and non-heart disease groups.\n",
    "2. Significant: Blood Pressure (BP) also has a significant difference(0.010561), indicating a potential association.\n",
    "3. Marginally Significant: Cholesterol has a p-value slightly above 0.05, suggesting a weak association.\n",
    "4. Highly Significant: Maximum Heart Rate shows a strong, statistically significant difference.\n",
    "5. Highly Significant: ST Depression is also highly significant, indicating a strong association with heart disease.\n",
    "\n",
    "#### The results suggest that Age, BP, Max HR, and ST Depression are more strongly associated with heart disease status, and they may serve as valuable features for predictive modeling."
   ]
  },
  {
   "cell_type": "markdown",
   "id": "d924f172-8f54-4698-983a-a153057e4fec",
   "metadata": {},
   "source": [
    "### 3. ANOVA Test:\n",
    "* An ANOVA (Analysis of Variance) test is a statistical method used to determine whether there are any statistically significant differences between the means of three or more independent groups."
   ]
  },
  {
   "cell_type": "code",
   "execution_count": 39,
   "id": "51da777a-9e78-41a7-80fd-243608a0f3e7",
   "metadata": {},
   "outputs": [],
   "source": [
    "category_col = ['Chest pain type', 'Slope of ST', 'Thallium' ]\n",
    "continuous_cols = ['Max HR', 'ST depression', 'BP', 'Age']\n",
    "\n",
    "def run_anova(df, category_col, continuous_cols):\n",
    "    unique_groups = sorted(df[category_col].unique())\n",
    "    for continuous_col in continuous_cols:\n",
    "        # Collecting data for each group\n",
    "        groups = [df[df[category_col] == group][continuous_col] for group in unique_groups]\n",
    "        anova_results = stats.f_oneway(*groups)\n",
    "\n",
    "        #Printing results\n",
    "        print(f\"ANOVA results for {category_col} and {continuous_col}\")\n",
    "        print(\"F-statistic:\", anova_results.statistic)\n",
    "        print(\"p-value:\", anova_results.pvalue)\n",
    "        print(\"----\" * 10)"
   ]
  },
  {
   "cell_type": "code",
   "execution_count": 40,
   "id": "408e5421-6a31-493a-8e0e-af74de75a660",
   "metadata": {},
   "outputs": [
    {
     "name": "stdout",
     "output_type": "stream",
     "text": [
      "ANOVA results for Chest pain type and Max HR\n",
      "F-statistic: 13.273984195928696\n",
      "p-value: 4.219911049988753e-08\n",
      "----------------------------------------\n",
      "ANOVA results for Chest pain type and ST depression\n",
      "F-statistic: 10.509044373972815\n",
      "p-value: 1.4841747556751578e-06\n",
      "----------------------------------------\n",
      "ANOVA results for Chest pain type and BP\n",
      "F-statistic: 2.850923191691003\n",
      "p-value: 0.03784582347269128\n",
      "----------------------------------------\n"
     ]
    }
   ],
   "source": [
    "run_anova(df, 'Chest pain type', ['Max HR', 'ST depression', 'BP'])"
   ]
  },
  {
   "cell_type": "code",
   "execution_count": 41,
   "id": "1a758498-5707-4914-a3c9-b53884898621",
   "metadata": {},
   "outputs": [
    {
     "name": "stdout",
     "output_type": "stream",
     "text": [
      "ANOVA results for Slope of ST and Max HR\n",
      "F-statistic: 32.786375424708915\n",
      "p-value: 1.8509041289991412e-13\n",
      "----------------------------------------\n",
      "ANOVA results for Slope of ST and ST depression\n",
      "F-statistic: 79.34776069809666\n",
      "p-value: 9.00587803820291e-28\n",
      "----------------------------------------\n",
      "ANOVA results for Slope of ST and BP\n",
      "F-statistic: 4.5144862797367775\n",
      "p-value: 0.011797910465727686\n",
      "----------------------------------------\n"
     ]
    }
   ],
   "source": [
    "run_anova(df, 'Slope of ST', ['Max HR', 'ST depression', 'BP'])"
   ]
  },
  {
   "cell_type": "code",
   "execution_count": 42,
   "id": "563a607d-fc85-4a82-b981-da27051292ee",
   "metadata": {},
   "outputs": [
    {
     "name": "stdout",
     "output_type": "stream",
     "text": [
      "ANOVA results for Thallium and Max HR\n",
      "F-statistic: 10.515395830025858\n",
      "p-value: 4.019368532378967e-05\n",
      "----------------------------------------\n",
      "ANOVA results for Thallium and ST depression\n",
      "F-statistic: 15.811504851287816\n",
      "p-value: 3.2381509000998903e-07\n",
      "----------------------------------------\n",
      "ANOVA results for Thallium and BP\n",
      "F-statistic: 2.5304623140945735\n",
      "p-value: 0.08153043027708284\n",
      "----------------------------------------\n"
     ]
    }
   ],
   "source": [
    "run_anova(df, 'Thallium', ['Max HR', 'ST depression', 'BP'])"
   ]
  },
  {
   "cell_type": "markdown",
   "id": "0809193d-85ae-4e96-9040-760808ea421f",
   "metadata": {},
   "source": [
    "#### Overall Insights:\n",
    "* The ANOVA results indicate significant associations between various continuous variables (Max HR, ST Depression, BP) and categorical variables (Chest Pain Type, Slope of ST, Thallium).\n",
    "  \n",
    "* Particularly strong associations were found between the slope of the ST segment and both Max HR and ST depression, highlighting their potential importance in cardiovascular assessment.\n",
    "\n",
    "* Significant differences in Max HR and ST depression based on chest pain type suggest that understanding chest pain characteristics can help predict heart disease outcomes and tailor interventions."
   ]
  },
  {
   "cell_type": "markdown",
   "id": "319acfbb-5229-45d9-bf2c-8d91f7b826d1",
   "metadata": {},
   "source": [
    "### 4. Correlation with Target Variable: Point-Biserial Correlation Coefficient:\n",
    "* A special case of the Pearson correlation that measures the relationship between one binary variable (dichotomous) and one continuous variable.\n",
    "* Range: -1 to 1, interpreted like Pearson's correlation.\n",
    "* Assumption: The continuous variable should be normally distributed.\n",
    "* Here, we have Binary Variable as 'Heart Disease' and other continuous variable."
   ]
  },
  {
   "cell_type": "code",
   "execution_count": 52,
   "id": "5f15e6a9-60df-4ba5-83d2-04b49469160d",
   "metadata": {},
   "outputs": [
    {
     "name": "stdout",
     "output_type": "stream",
     "text": [
      "               Point Biserial Correlation       p-value\n",
      "Age                              0.222914  2.221218e-04\n",
      "BP                               0.155383  1.056095e-02\n",
      "Cholesterol                      0.118021  5.273889e-02\n",
      "Max HR                          -0.418514  7.119583e-13\n",
      "ST depression                    0.417967  7.677946e-13\n"
     ]
    }
   ],
   "source": [
    "target_variable = 'Heart Disease'\n",
    "\n",
    "# Dictionary to store results\n",
    "correlation_results = {}\n",
    "\n",
    "# Calculating Point Biserial Correlation for each continuous variable\n",
    "for variable in continuous_components:\n",
    "    correlation, p_value = pointbiserialr(df[target_variable], df[variable])\n",
    "    correlation_results[variable] = {'correlation': correlation, 'p_value': p_value}\n",
    "\n",
    "# Converting results to a DataFrame\n",
    "results_df = pd.DataFrame(correlation_results).T\n",
    "results_df.columns = ['Point Biserial Correlation', 'p-value']\n",
    "print(results_df)"
   ]
  },
  {
   "cell_type": "markdown",
   "id": "606a3d65-63dd-4690-ac1e-963cc2d73313",
   "metadata": {},
   "source": [
    "#### Interpretation of Results:\n",
    "* Age, Max HR, and ST Depression appear to be important predictors of heart disease based on their strong correlations and significance levels.\n",
    "* While BP and Cholesterol show some level of correlation, they may not be as reliable as the other features in predicting heart disease, especially Cholesterol, which is close to the significance threshold."
   ]
  },
  {
   "cell_type": "markdown",
   "id": "7e0716d0-eb43-4aa8-842a-87219027bcc6",
   "metadata": {},
   "source": [
    "#### End of Statistical Tests"
   ]
  }
 ],
 "metadata": {
  "kernelspec": {
   "display_name": "Python 3 (ipykernel)",
   "language": "python",
   "name": "python3"
  },
  "language_info": {
   "codemirror_mode": {
    "name": "ipython",
    "version": 3
   },
   "file_extension": ".py",
   "mimetype": "text/x-python",
   "name": "python",
   "nbconvert_exporter": "python",
   "pygments_lexer": "ipython3",
   "version": "3.10.13"
  }
 },
 "nbformat": 4,
 "nbformat_minor": 5
}
